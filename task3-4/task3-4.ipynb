{
 "cells": [
  {
   "cell_type": "code",
   "execution_count": 1,
   "metadata": {},
   "outputs": [],
   "source": [
    "import numpy as np\n",
    "import matplotlib.pyplot as plt\n",
    "from numba import jit"
   ]
  },
  {
   "cell_type": "code",
   "execution_count": 2,
   "metadata": {},
   "outputs": [],
   "source": [
    "@jit\n",
    "def func(x):\n",
    "    return np.tan(0.49*np.pi*np.cos(1/(1.1 + np.sin(x**2))))"
   ]
  },
  {
   "cell_type": "code",
   "execution_count": 3,
   "metadata": {},
   "outputs": [
    {
     "data": {
      "text/plain": [
       "[<matplotlib.lines.Line2D at 0x7fb40eca72b0>]"
      ]
     },
     "execution_count": 3,
     "metadata": {},
     "output_type": "execute_result"
    },
    {
     "data": {
      "image/png": "[encoded data removed]",
      "text/plain": [
       "<Figure size 432x288 with 1 Axes>"
      ]
     },
     "metadata": {
      "needs_background": "light"
     },
     "output_type": "display_data"
    }
   ],
   "source": [
    "xs = np.linspace(0,10,1000)\n",
    "plt.plot(xs, func(xs))"
   ]
  },
  {
   "cell_type": "code",
   "execution_count": 4,
   "metadata": {
    "tags": []
   },
   "outputs": [
    {
     "data": {
      "text/plain": [
       "10.064432507935912"
      ]
     },
     "execution_count": 4,
     "metadata": {},
     "output_type": "execute_result"
    }
   ],
   "source": [
    "from queue import Queue\n",
    "import multiprocessing as mp\n",
    "from collections import namedtuple\n",
    "\n",
    "@jit\n",
    "def step_is_big(f, x, h, params):\n",
    "        return abs(f(x) - f(x+h))*h > params.step_prec\n",
    "\n",
    "@jit\n",
    "def worker_thread(f, start, stop, params):\n",
    "        x = start\n",
    "        h = params.initial_step\n",
    "        accumulator = 0\n",
    "        while x < stop:\n",
    "            if x + h > stop:\n",
    "                h = stop - x\n",
    "            \n",
    "            if step_is_big(f, x, h, params):\n",
    "                h = min(h/2, params.minimal_step)\n",
    "            else:\n",
    "                accumulator += h*f(x)\n",
    "                x += h\n",
    "        \n",
    "        return accumulator\n",
    "\n",
    "IntegratorParams = namedtuple('IntegratorParams', ['initial_step', 'minimal_step', 'step_prec'])\n",
    "class Integrator:\n",
    "    def __init__(self, workers=None, initial_step=10**(-4), minimal_step=10**(-6), step_prec=10**(-6)):\n",
    "        self.task_q = Queue()\n",
    "        self.pool = mp.Pool(processes=workers)\n",
    "\n",
    "        self.params = IntegratorParams(initial_step, minimal_step, step_prec)\n",
    "        \n",
    "    def integrate(self, f, a, b):\n",
    "        if b < a:\n",
    "            a,b = b,a\n",
    "\n",
    "        N = 100\n",
    "        async_res = []\n",
    "        for i in range(1, N+1):\n",
    "            d = (b-a)/N\n",
    "            async_res.append(self.pool.apply_async(worker_thread, (f, (i-1)*d, i*d, self.params)))\n",
    "        \n",
    "        result = 0\n",
    "        for obj in async_res:\n",
    "            obj.wait()\n",
    "            result += obj.get()\n",
    "        return result\n",
    "        \n",
    "\n",
    "integ = Integrator()\n",
    "integ.integrate(func, 0, 10)"
   ]
  }
 ],
 "metadata": {
  "kernelspec": {
   "display_name": "Python 3",
   "language": "python",
   "name": "python3"
  },
  "language_info": {
   "codemirror_mode": {
    "name": "ipython",
    "version": 3
   },
   "file_extension": ".py",
   "mimetype": "text/x-python",
   "name": "python",
   "nbconvert_exporter": "python",
   "pygments_lexer": "ipython3",
   "version": "3.8.5"
  }
 },
 "nbformat": 4,
 "nbformat_minor": 4
}
