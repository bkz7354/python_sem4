{
 "cells": [
  {
   "cell_type": "markdown",
   "metadata": {},
   "source": [
    "# Многопоточность в Python\n",
    "# Практическая часть"
   ]
  },
  {
   "cell_type": "markdown",
   "metadata": {},
   "source": [
    "### Задание 1"
   ]
  },
  {
   "cell_type": "markdown",
   "metadata": {},
   "source": [
    "Реализуйте запуск двух процессов с помощью multiprocessing (ещё понадобятся модули time и random):\n",
    "\n",
    "* countUp() подсчитывает 1 вверх, каждую секунду.\n",
    "* countDown() подсчитывает 1 вниз, каждую секунду."
   ]
  },
  {
   "cell_type": "code",
   "execution_count": 4,
   "metadata": {},
   "outputs": [
    {
     "output_type": "stream",
     "name": "stdout",
     "text": [
      "Counting up: 1\n",
      "Counting down: 10\n",
      "Counting up: 2Counting down: 9\n",
      "\n",
      "Counting up: 3Counting down: 8\n",
      "\n",
      "Counting up: 4Counting down: 7\n",
      "\n",
      "Counting up: 5Counting down: 6\n",
      "\n",
      "Counting up: 6Counting down: 5\n",
      "\n",
      "Counting up: 7Counting down: 4\n",
      "\n",
      "Counting up: 8Counting down: 3\n",
      "\n",
      "Counting up: 9Counting down: 2\n",
      "\n",
      "Counting up: 10Counting down: 1\n",
      "\n"
     ]
    }
   ],
   "source": [
    "import multiprocessing as mp\n",
    "import time\n",
    "\n",
    "def countUp(to):\n",
    "    for i in range(1, to+1):\n",
    "        print(\"Counting up: %i\" % i)\n",
    "        time.sleep(1)\n",
    "\n",
    "def countDown(fr):\n",
    "    for i in range(fr, 0, -1):\n",
    "        print(\"Counting down: %i\" % i)\n",
    "        time.sleep(1)\n",
    "\n",
    "procs = []\n",
    "procs.append(mp.Process(target=countUp, args=(10,)))\n",
    "procs.append(mp.Process(target=countDown, args=(10,)))\n",
    "\n",
    "for p in procs:\n",
    "    p.start()\n",
    "for p in procs:\n",
    "    p.join()"
   ]
  },
  {
   "cell_type": "markdown",
   "metadata": {},
   "source": [
    "### Задание 2"
   ]
  },
  {
   "cell_type": "markdown",
   "metadata": {},
   "source": [
    "Есть список a = [1, 1, 2, 3, 5, 8, 13, 21, 34, 55, 89].\n",
    "\n",
    "Выведите все элементы, которые меньше 5. Решите задачу несколькими способами, одних их которых использует lambda-функцию."
   ]
  },
  {
   "cell_type": "code",
   "execution_count": 6,
   "metadata": {},
   "outputs": [
    {
     "output_type": "stream",
     "name": "stdout",
     "text": [
      "1 1 2 3\n1 1 2 3\n"
     ]
    }
   ],
   "source": [
    "a = [1, 1, 2, 3, 5, 8, 13, 21, 34, 55, 89]\n",
    "\n",
    "way_one = [x for x in a if x < 5]\n",
    "print(*way_one)\n",
    "\n",
    "way_two = filter(lambda x: x < 5, a)\n",
    "print(*way_two)"
   ]
  },
  {
   "cell_type": "markdown",
   "metadata": {},
   "source": [
    "### Задание 3"
   ]
  },
  {
   "cell_type": "markdown",
   "metadata": {},
   "source": [
    "С помощью анонимной функции извлеките из списка числа, делимые на 15."
   ]
  },
  {
   "cell_type": "code",
   "execution_count": 10,
   "metadata": {},
   "outputs": [
    {
     "output_type": "stream",
     "name": "stdout",
     "text": [
      "0 15 30 45 60 75 90\n"
     ]
    }
   ],
   "source": [
    "l = [5*x for x in range(20)]\n",
    "\n",
    "print(*filter(lambda x: x%15 == 0, l))"
   ]
  },
  {
   "cell_type": "code",
   "execution_count": null,
   "metadata": {},
   "outputs": [],
   "source": []
  }
 ],
 "metadata": {
  "kernelspec": {
   "display_name": "Python 3",
   "language": "python",
   "name": "python3"
  },
  "language_info": {
   "codemirror_mode": {
    "name": "ipython",
    "version": 3
   },
   "file_extension": ".py",
   "mimetype": "text/x-python",
   "name": "python",
   "nbconvert_exporter": "python",
   "pygments_lexer": "ipython3",
   "version": "3.8.5-final"
  }
 },
 "nbformat": 4,
 "nbformat_minor": 4
}