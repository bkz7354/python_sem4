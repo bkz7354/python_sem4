{
 "cells": [
  {
   "cell_type": "markdown",
   "metadata": {},
   "source": [
    "## Занятие 5:\n",
    "## Базовые команды линукс. Работа на сервере. CRON.\n"
   ]
  },
  {
   "cell_type": "markdown",
   "metadata": {},
   "source": [
    "#### Основные команды linux."
   ]
  },
  {
   "cell_type": "markdown",
   "metadata": {},
   "source": [
    "1.1 Создайте новую директорию less_5 и перейдите в неё.\n",
    "\n",
    "1.2 Создайте пустой файл new.\n",
    "\n",
    "1.3 Переименуйте созданный файл в examples.txt. \n",
    "\n",
    "1.4 Добавьте строку текста в конец файла с помощью команды echo \"Hello, world\" >> test/examples.txt и перенаправления вывода.\n",
    "\n",
    "1.5 Выведите список файлов в директории (ls, ls -la, -lha, ls -F --color).\n",
    "\n",
    "1.6 Повторите команды (управление файлами, работа с текстом, управление процессами, окружение пользователя (кроме su/sudo)) из презентации на свом компьютере и сделайте скриншот вывода консоли."
   ]
  },
  {
   "source": [
    "Команды в task1.sh, скриншот в task1.png"
   ],
   "cell_type": "markdown",
   "metadata": {}
  },
  {
   "cell_type": "markdown",
   "metadata": {},
   "source": [
    "#### 2. Используя командную строку линукс:\n",
    "2.1 Выведите содержимое файла с пустыми строками и без пустых строк (см. опции less).\n",
    "\n",
    "2.2 Удалите из теста все \"[]\".\n",
    "\n",
    "2.3 Найдите все \"Linux\" и подсчитав их выведите в файл answers.txt (в той же директории).\n",
    "\n",
    "2.4 Создайте архив директории содержащей результаты выполнения задания."
   ]
  },
  {
   "source": [
    "Команды в task2.sh, архив - task2.tar.gz"
   ],
   "cell_type": "markdown",
   "metadata": {}
  },
  {
   "cell_type": "markdown",
   "metadata": {},
   "source": [
    "#### 3. Поставьте в CRON задания на вывод (раз в 5 секунд, каждую минуту, раз в 5 минут) текущего времени и первой строки файла в текстовый файл out.txt."
   ]
  },
  {
   "source": [
    "Команды в task3.sh"
   ],
   "cell_type": "markdown",
   "metadata": {}
  }
 ],
 "metadata": {
  "kernelspec": {
   "display_name": "Python 3",
   "language": "python",
   "name": "python3"
  },
  "language_info": {
   "codemirror_mode": {
    "name": "ipython",
    "version": 3
   },
   "file_extension": ".py",
   "mimetype": "text/x-python",
   "name": "python",
   "nbconvert_exporter": "python",
   "pygments_lexer": "ipython3",
   "version": "3.8.5"
  }
 },
 "nbformat": 4,
 "nbformat_minor": 4
}