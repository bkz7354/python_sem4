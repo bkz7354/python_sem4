{
 "cells": [
  {
   "cell_type": "code",
   "execution_count": 1,
   "metadata": {},
   "outputs": [],
   "source": [
    "import sqlite3 as sql"
   ]
  },
  {
   "cell_type": "code",
   "execution_count": 2,
   "metadata": {},
   "outputs": [],
   "source": [
    "conn = sql.connect(\"example.db\") \n",
    "cur = conn.cursor()"
   ]
  },
  {
   "cell_type": "code",
   "execution_count": 3,
   "metadata": {},
   "outputs": [],
   "source": [
    "try:\n",
    "    cur.executescript(open(\"create.sql\", 'r').read())\n",
    "except sql.OperationalError as err:\n",
    "    print(\"Encountered error: \" + str(err))"
   ]
  },
  {
   "cell_type": "code",
   "execution_count": 4,
   "metadata": {},
   "outputs": [],
   "source": [
    "try:\n",
    "    cur.executescript(open(\"insert_items.sql\", 'r').read())\n",
    "except Exception as err:\n",
    "    print(\"Encountered error: \" + str(err))"
   ]
  },
  {
   "cell_type": "code",
   "execution_count": 5,
   "metadata": {},
   "outputs": [
    {
     "name": "stdout",
     "output_type": "stream",
     "text": [
      "(4, 'Book3')\n",
      "(5, 'Book4')\n"
     ]
    }
   ],
   "source": [
    "request1 = \"\"\"\n",
    "SELECT id, title FROM Books INNER JOIN Records\n",
    "    ON Books.id == Records.book_id \n",
    "        AND Records.returning_date IS NULL;\n",
    "\"\"\"\n",
    "\n",
    "for row in cur.execute(request1):\n",
    "    print(row)"
   ]
  },
  {
   "cell_type": "code",
   "execution_count": 6,
   "metadata": {},
   "outputs": [
    {
     "name": "stdout",
     "output_type": "stream",
     "text": [
      "('Read1', 'Book3')\n",
      "('Read1', 'Book2')\n",
      "('Read2', 'Book4')\n"
     ]
    }
   ],
   "source": [
    "request2 = \"\"\"\n",
    "SELECT DISTINCT name, title FROM\n",
    "    (Readers INNER JOIN Records\n",
    "        ON Readers.id == Records.reader_id)\n",
    "    INNER JOIN Books \n",
    "        ON Books.id == Records.book_id; \n",
    "\"\"\"\n",
    "\n",
    "for row in cur.execute(request2):\n",
    "    print(row)"
   ]
  },
  {
   "cell_type": "code",
   "execution_count": 7,
   "metadata": {},
   "outputs": [
    {
     "name": "stdout",
     "output_type": "stream",
     "text": [
      "(None, 1)\n",
      "('Auth1', 1)\n",
      "('Auth2', 2)\n",
      "('Auth3', 1)\n"
     ]
    }
   ],
   "source": [
    "request3 = \"\"\"\n",
    "SELECT author, COUNT(*) FROM Books\n",
    "GROUP BY author\n",
    "\"\"\"\n",
    "\n",
    "for row in cur.execute(request3):\n",
    "    print(row)"
   ]
  }
 ],
 "metadata": {
  "kernelspec": {
   "display_name": "Python 3",
   "language": "python",
   "name": "python3"
  },
  "language_info": {
   "codemirror_mode": {
    "name": "ipython",
    "version": 3
   },
   "file_extension": ".py",
   "mimetype": "text/x-python",
   "name": "python",
   "nbconvert_exporter": "python",
   "pygments_lexer": "ipython3",
   "version": "3.8.5"
  }
 },
 "nbformat": 4,
 "nbformat_minor": 4
}
