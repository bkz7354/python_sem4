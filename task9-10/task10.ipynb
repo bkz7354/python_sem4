{
 "cells": [
  {
   "cell_type": "code",
   "execution_count": 1,
   "metadata": {},
   "outputs": [],
   "source": [
    "import sqlite3 as sql"
   ]
  },
  {
   "cell_type": "code",
   "execution_count": 2,
   "metadata": {},
   "outputs": [],
   "source": [
    "conn = sql.connect(\"example.db\") \n",
    "cur = conn.cursor()"
   ]
  },
  {
   "cell_type": "code",
   "execution_count": 3,
   "metadata": {},
   "outputs": [],
   "source": [
    "try:\n",
    "    cur.executescript(open(\"create.sql\", 'r').read())\n",
    "except sql.OperationalError as err:\n",
    "    print(\"Encountered error: \" + str(err))"
   ]
  },
  {
   "cell_type": "code",
   "execution_count": 4,
   "metadata": {},
   "outputs": [],
   "source": [
    "try:\n",
    "    cur.executescript(open(\"insert_items.sql\", 'r').read())\n",
    "except Exception as err:\n",
    "    print(\"Encountered error: \" + str(err))"
   ]
  },
  {
   "cell_type": "code",
   "execution_count": 5,
   "metadata": {},
   "outputs": [
    {
     "name": "stdout",
     "output_type": "stream",
     "text": [
      "('Book1',)\n",
      "('Book2',)\n",
      "('Book3',)\n",
      "('Book4',)\n"
     ]
    }
   ],
   "source": [
    "list_books = \"\"\"\n",
    "SELECT DISTINCT title FROM Books\n",
    "\"\"\"\n",
    "for row in cur.execute(list_books):\n",
    "    print(row)"
   ]
  },
  {
   "cell_type": "code",
   "execution_count": 6,
   "metadata": {},
   "outputs": [
    {
     "name": "stdout",
     "output_type": "stream",
     "text": [
      "('Read1',)\n",
      "('Read2',)\n",
      "('Read3',)\n"
     ]
    }
   ],
   "source": [
    "list_readers = \"\"\"\n",
    "SELECT DISTINCT name FROM Readers\n",
    "\"\"\"\n",
    "for row in cur.execute(list_readers):\n",
    "    print(row)"
   ]
  },
  {
   "cell_type": "code",
   "execution_count": 7,
   "metadata": {},
   "outputs": [
    {
     "name": "stdout",
     "output_type": "stream",
     "text": [
      "('Book1',)\n",
      "('Book2',)\n",
      "('Book3',)\n",
      "('Book4',)\n",
      "('Book6',)\n"
     ]
    }
   ],
   "source": [
    "add_book = \"\"\"\n",
    "INSERT INTO Books (id, author, title, publish_year)\n",
    "VALUES (NULL, \"Auth4\", \"Book6\", \"1241\")\n",
    "\"\"\"\n",
    "\n",
    "cur.execute(add_book)\n",
    "for row in cur.execute(list_books):\n",
    "    print(row)"
   ]
  },
  {
   "cell_type": "code",
   "execution_count": 8,
   "metadata": {},
   "outputs": [
    {
     "name": "stdout",
     "output_type": "stream",
     "text": [
      "('Read1',)\n",
      "('Read2',)\n",
      "('Read3',)\n",
      "('Read7',)\n"
     ]
    }
   ],
   "source": [
    "add_reader = \"\"\"\n",
    "INSERT INTO Readers (name)\n",
    "VALUES (\"Read7\")\n",
    "\"\"\"\n",
    "\n",
    "cur.execute(add_reader)\n",
    "for row in cur.execute(list_readers):\n",
    "    print(row)"
   ]
  },
  {
   "cell_type": "code",
   "execution_count": 9,
   "metadata": {},
   "outputs": [
    {
     "name": "stdout",
     "output_type": "stream",
     "text": [
      "book Book4 is unavailable\n",
      "(1, 4, '18.02.2020', None)\n",
      "(1, 2, '18.02.2020', '24.02.2020')\n",
      "(2, 5, '04.04.2020', None)\n",
      "(1, 6, '21.05.2021', None)\n"
     ]
    }
   ],
   "source": [
    "from datetime import datetime\n",
    "\n",
    "def find_book(cursor, title):\n",
    "    request = \"\"\"\n",
    "    SELECT DISTINCT Books.id FROM Books\n",
    "        WHERE (SELECT COUNT(*) FROM Records\n",
    "                WHERE Books.id == Records.book_id \n",
    "                    AND Records.returning_date IS NULL) == 0\n",
    "            AND\n",
    "            Books.title == ?\n",
    "    \"\"\"\n",
    "    cursor.execute(request, (title,))\n",
    "    res = cursor.fetchone()\n",
    "    if res:\n",
    "        return res[0]\n",
    "    return None\n",
    "\n",
    "def request_book(cursor, title, reader_id):\n",
    "    book_id = find_book(cursor, title)\n",
    "\n",
    "    if book_id:\n",
    "        date = datetime.now().strftime(\"%d.%m.%Y\")\n",
    "        request = \"\"\"\n",
    "        INSERT INTO Records VALUES (?, ?, ?, NULL)\n",
    "        \"\"\"\n",
    "        \n",
    "        cursor.execute(request, (reader_id, book_id, date))\n",
    "    else:\n",
    "        raise Exception(\"book %s is unavailable\"%(title))\n",
    "\n",
    "try:\n",
    "    request_book(cur, \"Book4\", 1)\n",
    "except Exception as err:\n",
    "    print(err)\n",
    "\n",
    "try:\n",
    "    request_book(cur, \"Book6\", 1)\n",
    "except Exception as err:\n",
    "    print(err)\n",
    "\n",
    "for row in cur.execute(\"SELECT DISTINCT * FROM Records\"):\n",
    "    print(row)"
   ]
  },
  {
   "cell_type": "code",
   "execution_count": 10,
   "metadata": {},
   "outputs": [
    {
     "name": "stdout",
     "output_type": "stream",
     "text": [
      "no records found\n",
      "(1, 4, '18.02.2020', None)\n",
      "(1, 2, '18.02.2020', '24.02.2020')\n",
      "(2, 5, '04.04.2020', '21.05.2021')\n",
      "(1, 6, '21.05.2021', None)\n"
     ]
    }
   ],
   "source": [
    "def check_request(cursor, book_id):\n",
    "    cursor.execute(\n",
    "        \"\"\"SELECT * FROM Records WHERE book_id == %d AND returning_date is NULL\"\"\" % (book_id)\n",
    "    )\n",
    "    res = cursor.fetchone()\n",
    "    if res:\n",
    "        return True\n",
    "    return False\n",
    "\n",
    "def return_book(cursor, book_id):\n",
    "    if check_request(cursor, book_id):\n",
    "        date = datetime.now().strftime(\"%d.%m.%Y\")\n",
    "        request = \"\"\"\n",
    "        UPDATE Records SET returning_date = ?\n",
    "            WHERE book_id == ? AND returning_date IS NULL\n",
    "        \"\"\"\n",
    "\n",
    "        cursor.execute(request, (date, book_id))\n",
    "    else:\n",
    "        raise Exception(\"no records found\")\n",
    "\n",
    "try:\n",
    "    return_book(cur, 1)\n",
    "except Exception as err:\n",
    "    print(err)\n",
    "\n",
    "try:\n",
    "    return_book(cur, 5)\n",
    "except Exception as err:\n",
    "    print(err)\n",
    "\n",
    "for row in cur.execute(\"SELECT DISTINCT * FROM Records\"):\n",
    "    print(row)"
   ]
  }
 ],
 "metadata": {
  "kernelspec": {
   "display_name": "Python 3",
   "language": "python",
   "name": "python3"
  },
  "language_info": {
   "codemirror_mode": {
    "name": "ipython",
    "version": 3
   },
   "file_extension": ".py",
   "mimetype": "text/x-python",
   "name": "python",
   "nbconvert_exporter": "python",
   "pygments_lexer": "ipython3",
   "version": "3.8.5"
  }
 },
 "nbformat": 4,
 "nbformat_minor": 4
}
