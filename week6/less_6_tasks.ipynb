{
 "cells": [
  {
   "cell_type": "markdown",
   "metadata": {},
   "source": [
    "## Занятие 6\n",
    "### Практическое задание"
   ]
  },
  {
   "cell_type": "markdown",
   "metadata": {},
   "source": [
    "Понятие введено математиком Джоном Тьюки, цели такого анализа формируются следующим образом:\n",
    "\n",
    "* максимальное «проникновение» в данные\n",
    "\n",
    "* выявление основных структур\n",
    "\n",
    "* выбор наиболее важных переменных\n",
    "\n",
    "* обнаружение отклонений и аномалий\n",
    "\n",
    "* проверка основных гипотез\n",
    "\n",
    "* разработка начальных моделей.\n"
   ]
  },
  {
   "cell_type": "markdown",
   "metadata": {},
   "source": [
    "#### 1. Загрузите данные из Nobel_prize.json (см. https://pandas.pydata.org/pandas-docs/stable/reference/api/pandas.json_normalize.html)."
   ]
  },
  {
   "cell_type": "code",
   "execution_count": 31,
   "metadata": {
    "tags": []
   },
   "outputs": [
    {
     "output_type": "execute_result",
     "data": {
      "text/plain": [
       "      id       firstname      surname  \\\n",
       "0    991      Emmanuelle  Charpentier   \n",
       "1    992     Jennifer A.       Doudna   \n",
       "2    995            Paul      Milgrom   \n",
       "3    996          Robert       Wilson   \n",
       "4    993          Louise        Glück   \n",
       "..   ...             ...          ...   \n",
       "957  569           Sully    Prudhomme   \n",
       "958  462           Henry       Dunant   \n",
       "959  463        Frédéric        Passy   \n",
       "960    1  Wilhelm Conrad      Röntgen   \n",
       "961  293            Emil  von Behring   \n",
       "\n",
       "                                            motivation share prizes.year  \\\n",
       "0    \"for the development of a method for genome ed...     2        2020   \n",
       "1    \"for the development of a method for genome ed...     2        2020   \n",
       "2    \"for improvements to auction theory and invent...     2        2020   \n",
       "3    \"for improvements to auction theory and invent...     2        2020   \n",
       "4    \"for her unmistakable poetic voice that with a...     1        2020   \n",
       "..                                                 ...   ...         ...   \n",
       "957  \"in special recognition of his poetic composit...     1        1901   \n",
       "958  \"for his humanitarian efforts to help wounded ...     2        1901   \n",
       "959  \"for his lifelong work for international peace...     2        1901   \n",
       "960  \"in recognition of the extraordinary services ...     1        1901   \n",
       "961  \"for his work on serum therapy, especially its...     1        1901   \n",
       "\n",
       "    prizes.category  \n",
       "0         chemistry  \n",
       "1         chemistry  \n",
       "2         economics  \n",
       "3         economics  \n",
       "4        literature  \n",
       "..              ...  \n",
       "957      literature  \n",
       "958           peace  \n",
       "959           peace  \n",
       "960         physics  \n",
       "961        medicine  \n",
       "\n",
       "[962 rows x 7 columns]"
      ],
      "text/html": "<div>\n<style scoped>\n    .dataframe tbody tr th:only-of-type {\n        vertical-align: middle;\n    }\n\n    .dataframe tbody tr th {\n        vertical-align: top;\n    }\n\n    .dataframe thead th {\n        text-align: right;\n    }\n</style>\n<table border=\"1\" class=\"dataframe\">\n  <thead>\n    <tr style=\"text-align: right;\">\n      <th></th>\n      <th>id</th>\n      <th>firstname</th>\n      <th>surname</th>\n      <th>motivation</th>\n      <th>share</th>\n      <th>prizes.year</th>\n      <th>prizes.category</th>\n    </tr>\n  </thead>\n  <tbody>\n    <tr>\n      <th>0</th>\n      <td>991</td>\n      <td>Emmanuelle</td>\n      <td>Charpentier</td>\n      <td>\"for the development of a method for genome ed...</td>\n      <td>2</td>\n      <td>2020</td>\n      <td>chemistry</td>\n    </tr>\n    <tr>\n      <th>1</th>\n      <td>992</td>\n      <td>Jennifer A.</td>\n      <td>Doudna</td>\n      <td>\"for the development of a method for genome ed...</td>\n      <td>2</td>\n      <td>2020</td>\n      <td>chemistry</td>\n    </tr>\n    <tr>\n      <th>2</th>\n      <td>995</td>\n      <td>Paul</td>\n      <td>Milgrom</td>\n      <td>\"for improvements to auction theory and invent...</td>\n      <td>2</td>\n      <td>2020</td>\n      <td>economics</td>\n    </tr>\n    <tr>\n      <th>3</th>\n      <td>996</td>\n      <td>Robert</td>\n      <td>Wilson</td>\n      <td>\"for improvements to auction theory and invent...</td>\n      <td>2</td>\n      <td>2020</td>\n      <td>economics</td>\n    </tr>\n    <tr>\n      <th>4</th>\n      <td>993</td>\n      <td>Louise</td>\n      <td>Glück</td>\n      <td>\"for her unmistakable poetic voice that with a...</td>\n      <td>1</td>\n      <td>2020</td>\n      <td>literature</td>\n    </tr>\n    <tr>\n      <th>...</th>\n      <td>...</td>\n      <td>...</td>\n      <td>...</td>\n      <td>...</td>\n      <td>...</td>\n      <td>...</td>\n      <td>...</td>\n    </tr>\n    <tr>\n      <th>957</th>\n      <td>569</td>\n      <td>Sully</td>\n      <td>Prudhomme</td>\n      <td>\"in special recognition of his poetic composit...</td>\n      <td>1</td>\n      <td>1901</td>\n      <td>literature</td>\n    </tr>\n    <tr>\n      <th>958</th>\n      <td>462</td>\n      <td>Henry</td>\n      <td>Dunant</td>\n      <td>\"for his humanitarian efforts to help wounded ...</td>\n      <td>2</td>\n      <td>1901</td>\n      <td>peace</td>\n    </tr>\n    <tr>\n      <th>959</th>\n      <td>463</td>\n      <td>Frédéric</td>\n      <td>Passy</td>\n      <td>\"for his lifelong work for international peace...</td>\n      <td>2</td>\n      <td>1901</td>\n      <td>peace</td>\n    </tr>\n    <tr>\n      <th>960</th>\n      <td>1</td>\n      <td>Wilhelm Conrad</td>\n      <td>Röntgen</td>\n      <td>\"in recognition of the extraordinary services ...</td>\n      <td>1</td>\n      <td>1901</td>\n      <td>physics</td>\n    </tr>\n    <tr>\n      <th>961</th>\n      <td>293</td>\n      <td>Emil</td>\n      <td>von Behring</td>\n      <td>\"for his work on serum therapy, especially its...</td>\n      <td>1</td>\n      <td>1901</td>\n      <td>medicine</td>\n    </tr>\n  </tbody>\n</table>\n<p>962 rows × 7 columns</p>\n</div>"
     },
     "metadata": {},
     "execution_count": 31
    }
   ],
   "source": [
    "import json\n",
    "import pandas as pd\n",
    "\n",
    "\n",
    "with open(\"samples/Nobel_prize.json\", 'r') as f:\n",
    "    nobel_json = json.loads(f.read())\n",
    "\n",
    "nobel_json[\"prizes\"] = [prize for prize in nobel_json[\"prizes\"] if \"laureates\" in prize]\n",
    "\n",
    "pd.json_normalize(nobel_json, [\"prizes\", \"laureates\"], [[\"prizes\", \"year\"], [\"prizes\", \"category\"]])"
   ]
  },
  {
   "cell_type": "markdown",
   "metadata": {},
   "source": [
    "#### 2. Проведите исследовательский анализ данных flats_moscow.csv и weather.csv.\n",
    "* Общая информация о данных.\n",
    "\n",
    "* Анализ и обработка пропусков и дубликатов. Проверка типов данных.\n",
    "\n",
    "* Выявление аномалий.\n",
    "\n",
    "* Исследуйте корреляции между переменными."
   ]
  },
  {
   "cell_type": "code",
   "execution_count": 27,
   "metadata": {},
   "outputs": [],
   "source": [
    "import pandas as pd\n",
    "\n",
    "flats_moscow = pd.read_csv(\"samples/flats_moscow.csv\")\n",
    "weather = pd.read_csv(\"samples/weather.csv\")"
   ]
  },
  {
   "cell_type": "code",
   "execution_count": 32,
   "metadata": {},
   "outputs": [
    {
     "output_type": "stream",
     "name": "stdout",
     "text": [
      "<class 'pandas.core.frame.DataFrame'>\nRangeIndex: 366 entries, 0 to 365\nData columns (total 22 columns):\n #   Column         Non-Null Count  Dtype  \n---  ------         --------------  -----  \n 0   MinTemp        366 non-null    float64\n 1   MaxTemp        366 non-null    float64\n 2   Rainfall       366 non-null    float64\n 3   Evaporation    366 non-null    float64\n 4   Sunshine       363 non-null    float64\n 5   WindGustDir    363 non-null    object \n 6   WindGustSpeed  364 non-null    float64\n 7   WindDir9am     335 non-null    object \n 8   WindDir3pm     365 non-null    object \n 9   WindSpeed9am   359 non-null    float64\n 10  WindSpeed3pm   366 non-null    int64  \n 11  Humidity9am    366 non-null    int64  \n 12  Humidity3pm    366 non-null    int64  \n 13  Pressure9am    366 non-null    float64\n 14  Pressure3pm    366 non-null    float64\n 15  Cloud9am       366 non-null    int64  \n 16  Cloud3pm       366 non-null    int64  \n 17  Temp9am        366 non-null    float64\n 18  Temp3pm        366 non-null    float64\n 19  RainToday      366 non-null    object \n 20  RISK_MM        366 non-null    float64\n 21  RainTomorrow   366 non-null    object \ndtypes: float64(12), int64(5), object(5)\nmemory usage: 63.0+ KB\n"
     ]
    }
   ],
   "source": [
    "weather.info()"
   ]
  },
  {
   "cell_type": "code",
   "execution_count": 33,
   "metadata": {},
   "outputs": [
    {
     "output_type": "stream",
     "name": "stdout",
     "text": [
      "<class 'pandas.core.frame.DataFrame'>\nRangeIndex: 2040 entries, 0 to 2039\nData columns (total 11 columns):\n #   Column      Non-Null Count  Dtype  \n---  ------      --------------  -----  \n 0   Unnamed: 0  2040 non-null   int64  \n 1   price       2040 non-null   int64  \n 2   totsp       2040 non-null   int64  \n 3   livesp      2040 non-null   int64  \n 4   kitsp       2040 non-null   float64\n 5   dist        2040 non-null   float64\n 6   metrdist    2040 non-null   int64  \n 7   walk        2040 non-null   int64  \n 8   brick       2040 non-null   int64  \n 9   floor       2040 non-null   int64  \n 10  code        2040 non-null   int64  \ndtypes: float64(2), int64(9)\nmemory usage: 175.4 KB\n"
     ]
    }
   ],
   "source": [
    "flats_moscow.info()"
   ]
  },
  {
   "cell_type": "code",
   "execution_count": 43,
   "metadata": {},
   "outputs": [
    {
     "output_type": "stream",
     "name": "stdout",
     "text": [
      "MinTemp           0\nMaxTemp           0\nRainfall          0\nEvaporation       0\nSunshine          3\nWindGustDir       3\nWindGustSpeed     2\nWindDir9am       31\nWindDir3pm        1\nWindSpeed9am      7\nWindSpeed3pm      0\nHumidity9am       0\nHumidity3pm       0\nPressure9am       0\nPressure3pm       0\nCloud9am          0\nCloud3pm          0\nTemp9am           0\nTemp3pm           0\nRainToday         0\nRISK_MM           0\nRainTomorrow      0\ndtype: int64\n"
     ]
    },
    {
     "output_type": "execute_result",
     "data": {
      "text/plain": [
       "     MinTemp  MaxTemp  Rainfall  Evaporation  Sunshine WindGustDir  \\\n",
       "0        8.0     24.3       0.0          3.4       6.3          NW   \n",
       "1       14.0     26.9       3.6          4.4       9.7         ENE   \n",
       "2       13.7     23.4       3.6          5.8       3.3          NW   \n",
       "3       13.3     15.5      39.8          7.2       9.1          NW   \n",
       "4        7.6     16.1       2.8          5.6      10.6         SSE   \n",
       "..       ...      ...       ...          ...       ...         ...   \n",
       "361      9.0     30.7       0.0          7.6      12.1         NNW   \n",
       "362      7.1     28.4       0.0         11.6      12.7           N   \n",
       "363     12.5     19.9       0.0          8.4       5.3         ESE   \n",
       "364     12.5     26.9       0.0          5.0       7.1          NW   \n",
       "365     12.3     30.2       0.0          6.0      12.6          NW   \n",
       "\n",
       "     WindGustSpeed WindDir9am WindDir3pm  WindSpeed9am  ...  Humidity3pm  \\\n",
       "0             30.0         SW         NW           6.0  ...           29   \n",
       "1             39.0          E          W           4.0  ...           36   \n",
       "2             85.0          N        NNE           6.0  ...           69   \n",
       "3             54.0        WNW          W          30.0  ...           56   \n",
       "4             50.0        SSE        ESE          20.0  ...           49   \n",
       "..             ...        ...        ...           ...  ...          ...   \n",
       "361           76.0        SSE         NW           7.0  ...           15   \n",
       "362           48.0        NNW        NNW           2.0  ...           22   \n",
       "363           43.0        ENE        ENE          11.0  ...           47   \n",
       "364           46.0        SSW        WNW           6.0  ...           39   \n",
       "365           78.0         NW        WNW          31.0  ...           13   \n",
       "\n",
       "     Pressure9am  Pressure3pm  Cloud9am  Cloud3pm  Temp9am  Temp3pm  \\\n",
       "0         1019.7       1015.0         7         7     14.4     23.6   \n",
       "1         1012.4       1008.4         5         3     17.5     25.7   \n",
       "2         1009.5       1007.2         8         7     15.4     20.2   \n",
       "3         1005.5       1007.0         2         7     13.5     14.1   \n",
       "4         1018.3       1018.5         7         7     11.1     15.4   \n",
       "..           ...          ...       ...       ...      ...      ...   \n",
       "361       1016.1       1010.8         1         3     20.4     30.0   \n",
       "362       1020.0       1016.9         0         1     17.2     28.2   \n",
       "363       1024.0       1022.8         3         2     14.5     18.3   \n",
       "364       1021.0       1016.2         6         7     15.8     25.9   \n",
       "365       1009.6       1009.2         1         1     23.8     28.6   \n",
       "\n",
       "     RainToday  RISK_MM RainTomorrow  \n",
       "0           No      3.6          Yes  \n",
       "1          Yes      3.6          Yes  \n",
       "2          Yes     39.8          Yes  \n",
       "3          Yes      2.8          Yes  \n",
       "4          Yes      0.0           No  \n",
       "..         ...      ...          ...  \n",
       "361         No      0.0           No  \n",
       "362         No      0.0           No  \n",
       "363         No      0.0           No  \n",
       "364         No      0.0           No  \n",
       "365         No      0.0           No  \n",
       "\n",
       "[328 rows x 22 columns]"
      ],
      "text/html": "<div>\n<style scoped>\n    .dataframe tbody tr th:only-of-type {\n        vertical-align: middle;\n    }\n\n    .dataframe tbody tr th {\n        vertical-align: top;\n    }\n\n    .dataframe thead th {\n        text-align: right;\n    }\n</style>\n<table border=\"1\" class=\"dataframe\">\n  <thead>\n    <tr style=\"text-align: right;\">\n      <th></th>\n      <th>MinTemp</th>\n      <th>MaxTemp</th>\n      <th>Rainfall</th>\n      <th>Evaporation</th>\n      <th>Sunshine</th>\n      <th>WindGustDir</th>\n      <th>WindGustSpeed</th>\n      <th>WindDir9am</th>\n      <th>WindDir3pm</th>\n      <th>WindSpeed9am</th>\n      <th>...</th>\n      <th>Humidity3pm</th>\n      <th>Pressure9am</th>\n      <th>Pressure3pm</th>\n      <th>Cloud9am</th>\n      <th>Cloud3pm</th>\n      <th>Temp9am</th>\n      <th>Temp3pm</th>\n      <th>RainToday</th>\n      <th>RISK_MM</th>\n      <th>RainTomorrow</th>\n    </tr>\n  </thead>\n  <tbody>\n    <tr>\n      <th>0</th>\n      <td>8.0</td>\n      <td>24.3</td>\n      <td>0.0</td>\n      <td>3.4</td>\n      <td>6.3</td>\n      <td>NW</td>\n      <td>30.0</td>\n      <td>SW</td>\n      <td>NW</td>\n      <td>6.0</td>\n      <td>...</td>\n      <td>29</td>\n      <td>1019.7</td>\n      <td>1015.0</td>\n      <td>7</td>\n      <td>7</td>\n      <td>14.4</td>\n      <td>23.6</td>\n      <td>No</td>\n      <td>3.6</td>\n      <td>Yes</td>\n    </tr>\n    <tr>\n      <th>1</th>\n      <td>14.0</td>\n      <td>26.9</td>\n      <td>3.6</td>\n      <td>4.4</td>\n      <td>9.7</td>\n      <td>ENE</td>\n      <td>39.0</td>\n      <td>E</td>\n      <td>W</td>\n      <td>4.0</td>\n      <td>...</td>\n      <td>36</td>\n      <td>1012.4</td>\n      <td>1008.4</td>\n      <td>5</td>\n      <td>3</td>\n      <td>17.5</td>\n      <td>25.7</td>\n      <td>Yes</td>\n      <td>3.6</td>\n      <td>Yes</td>\n    </tr>\n    <tr>\n      <th>2</th>\n      <td>13.7</td>\n      <td>23.4</td>\n      <td>3.6</td>\n      <td>5.8</td>\n      <td>3.3</td>\n      <td>NW</td>\n      <td>85.0</td>\n      <td>N</td>\n      <td>NNE</td>\n      <td>6.0</td>\n      <td>...</td>\n      <td>69</td>\n      <td>1009.5</td>\n      <td>1007.2</td>\n      <td>8</td>\n      <td>7</td>\n      <td>15.4</td>\n      <td>20.2</td>\n      <td>Yes</td>\n      <td>39.8</td>\n      <td>Yes</td>\n    </tr>\n    <tr>\n      <th>3</th>\n      <td>13.3</td>\n      <td>15.5</td>\n      <td>39.8</td>\n      <td>7.2</td>\n      <td>9.1</td>\n      <td>NW</td>\n      <td>54.0</td>\n      <td>WNW</td>\n      <td>W</td>\n      <td>30.0</td>\n      <td>...</td>\n      <td>56</td>\n      <td>1005.5</td>\n      <td>1007.0</td>\n      <td>2</td>\n      <td>7</td>\n      <td>13.5</td>\n      <td>14.1</td>\n      <td>Yes</td>\n      <td>2.8</td>\n      <td>Yes</td>\n    </tr>\n    <tr>\n      <th>4</th>\n      <td>7.6</td>\n      <td>16.1</td>\n      <td>2.8</td>\n      <td>5.6</td>\n      <td>10.6</td>\n      <td>SSE</td>\n      <td>50.0</td>\n      <td>SSE</td>\n      <td>ESE</td>\n      <td>20.0</td>\n      <td>...</td>\n      <td>49</td>\n      <td>1018.3</td>\n      <td>1018.5</td>\n      <td>7</td>\n      <td>7</td>\n      <td>11.1</td>\n      <td>15.4</td>\n      <td>Yes</td>\n      <td>0.0</td>\n      <td>No</td>\n    </tr>\n    <tr>\n      <th>...</th>\n      <td>...</td>\n      <td>...</td>\n      <td>...</td>\n      <td>...</td>\n      <td>...</td>\n      <td>...</td>\n      <td>...</td>\n      <td>...</td>\n      <td>...</td>\n      <td>...</td>\n      <td>...</td>\n      <td>...</td>\n      <td>...</td>\n      <td>...</td>\n      <td>...</td>\n      <td>...</td>\n      <td>...</td>\n      <td>...</td>\n      <td>...</td>\n      <td>...</td>\n      <td>...</td>\n    </tr>\n    <tr>\n      <th>361</th>\n      <td>9.0</td>\n      <td>30.7</td>\n      <td>0.0</td>\n      <td>7.6</td>\n      <td>12.1</td>\n      <td>NNW</td>\n      <td>76.0</td>\n      <td>SSE</td>\n      <td>NW</td>\n      <td>7.0</td>\n      <td>...</td>\n      <td>15</td>\n      <td>1016.1</td>\n      <td>1010.8</td>\n      <td>1</td>\n      <td>3</td>\n      <td>20.4</td>\n      <td>30.0</td>\n      <td>No</td>\n      <td>0.0</td>\n      <td>No</td>\n    </tr>\n    <tr>\n      <th>362</th>\n      <td>7.1</td>\n      <td>28.4</td>\n      <td>0.0</td>\n      <td>11.6</td>\n      <td>12.7</td>\n      <td>N</td>\n      <td>48.0</td>\n      <td>NNW</td>\n      <td>NNW</td>\n      <td>2.0</td>\n      <td>...</td>\n      <td>22</td>\n      <td>1020.0</td>\n      <td>1016.9</td>\n      <td>0</td>\n      <td>1</td>\n      <td>17.2</td>\n      <td>28.2</td>\n      <td>No</td>\n      <td>0.0</td>\n      <td>No</td>\n    </tr>\n    <tr>\n      <th>363</th>\n      <td>12.5</td>\n      <td>19.9</td>\n      <td>0.0</td>\n      <td>8.4</td>\n      <td>5.3</td>\n      <td>ESE</td>\n      <td>43.0</td>\n      <td>ENE</td>\n      <td>ENE</td>\n      <td>11.0</td>\n      <td>...</td>\n      <td>47</td>\n      <td>1024.0</td>\n      <td>1022.8</td>\n      <td>3</td>\n      <td>2</td>\n      <td>14.5</td>\n      <td>18.3</td>\n      <td>No</td>\n      <td>0.0</td>\n      <td>No</td>\n    </tr>\n    <tr>\n      <th>364</th>\n      <td>12.5</td>\n      <td>26.9</td>\n      <td>0.0</td>\n      <td>5.0</td>\n      <td>7.1</td>\n      <td>NW</td>\n      <td>46.0</td>\n      <td>SSW</td>\n      <td>WNW</td>\n      <td>6.0</td>\n      <td>...</td>\n      <td>39</td>\n      <td>1021.0</td>\n      <td>1016.2</td>\n      <td>6</td>\n      <td>7</td>\n      <td>15.8</td>\n      <td>25.9</td>\n      <td>No</td>\n      <td>0.0</td>\n      <td>No</td>\n    </tr>\n    <tr>\n      <th>365</th>\n      <td>12.3</td>\n      <td>30.2</td>\n      <td>0.0</td>\n      <td>6.0</td>\n      <td>12.6</td>\n      <td>NW</td>\n      <td>78.0</td>\n      <td>NW</td>\n      <td>WNW</td>\n      <td>31.0</td>\n      <td>...</td>\n      <td>13</td>\n      <td>1009.6</td>\n      <td>1009.2</td>\n      <td>1</td>\n      <td>1</td>\n      <td>23.8</td>\n      <td>28.6</td>\n      <td>No</td>\n      <td>0.0</td>\n      <td>No</td>\n    </tr>\n  </tbody>\n</table>\n<p>328 rows × 22 columns</p>\n</div>"
     },
     "metadata": {},
     "execution_count": 43
    }
   ],
   "source": [
    "print(weather.isnull().sum())\n",
    "weather.dropna()"
   ]
  },
  {
   "cell_type": "code",
   "execution_count": 39,
   "metadata": {},
   "outputs": [
    {
     "output_type": "execute_result",
     "data": {
      "text/plain": [
       "Unnamed: 0    0\n",
       "price         0\n",
       "totsp         0\n",
       "livesp        0\n",
       "kitsp         0\n",
       "dist          0\n",
       "metrdist      0\n",
       "walk          0\n",
       "brick         0\n",
       "floor         0\n",
       "code          0\n",
       "dtype: int64"
      ]
     },
     "metadata": {},
     "execution_count": 39
    }
   ],
   "source": [
    "flats_moscow.isnull().sum()"
   ]
  },
  {
   "cell_type": "code",
   "execution_count": 45,
   "metadata": {},
   "outputs": [
    {
     "output_type": "execute_result",
     "data": {
      "text/plain": [
       "count    366.000000\n",
       "mean       1.428415\n",
       "std        4.225800\n",
       "min        0.000000\n",
       "25%        0.000000\n",
       "50%        0.000000\n",
       "75%        0.200000\n",
       "max       39.800000\n",
       "Name: Rainfall, dtype: float64"
      ]
     },
     "metadata": {},
     "execution_count": 45
    }
   ],
   "source": [
    "rainfall = weather[\"Rainfall\"]"
   ]
  },
  {
   "cell_type": "code",
   "execution_count": null,
   "metadata": {},
   "outputs": [],
   "source": [
    "weather[]"
   ]
  },
  {
   "cell_type": "markdown",
   "metadata": {},
   "source": [
    "#### 3. Проведите соединение таблиц sales и states с помощью разных типов джойнов и сравните результаты. Подсчитайте число полученных строк во всех рассмотренных слкчаях (4 типа джойнов)."
   ]
  },
  {
   "cell_type": "code",
   "execution_count": 23,
   "metadata": {},
   "outputs": [],
   "source": [
    "import pandas as pd\n",
    "sales = pd.read_excel('https://github.com/datagy/mediumdata/raw/master/pythonexcel.xlsx', sheet_name = 'sales')\n",
    "states = pd.read_excel('https://github.com/datagy/mediumdata/raw/master/pythonexcel.xlsx', sheet_name = 'states')"
   ]
  },
  {
   "cell_type": "code",
   "execution_count": 24,
   "metadata": {},
   "outputs": [
    {
     "output_type": "execute_result",
     "data": {
      "text/plain": [
       "    Product  Sales       Date           City\n",
       "0   Bananas    121 2019-06-13        Atlanta\n",
       "1   Bananas    236 2019-10-20        Atlanta\n",
       "2    Apples    981 2019-03-12        Atlanta\n",
       "3     Bread    996 2019-07-28  New York City\n",
       "4  Brocolli    790 2019-10-22  New York City"
      ],
      "text/html": "<div>\n<style scoped>\n    .dataframe tbody tr th:only-of-type {\n        vertical-align: middle;\n    }\n\n    .dataframe tbody tr th {\n        vertical-align: top;\n    }\n\n    .dataframe thead th {\n        text-align: right;\n    }\n</style>\n<table border=\"1\" class=\"dataframe\">\n  <thead>\n    <tr style=\"text-align: right;\">\n      <th></th>\n      <th>Product</th>\n      <th>Sales</th>\n      <th>Date</th>\n      <th>City</th>\n    </tr>\n  </thead>\n  <tbody>\n    <tr>\n      <th>0</th>\n      <td>Bananas</td>\n      <td>121</td>\n      <td>2019-06-13</td>\n      <td>Atlanta</td>\n    </tr>\n    <tr>\n      <th>1</th>\n      <td>Bananas</td>\n      <td>236</td>\n      <td>2019-10-20</td>\n      <td>Atlanta</td>\n    </tr>\n    <tr>\n      <th>2</th>\n      <td>Apples</td>\n      <td>981</td>\n      <td>2019-03-12</td>\n      <td>Atlanta</td>\n    </tr>\n    <tr>\n      <th>3</th>\n      <td>Bread</td>\n      <td>996</td>\n      <td>2019-07-28</td>\n      <td>New York City</td>\n    </tr>\n    <tr>\n      <th>4</th>\n      <td>Brocolli</td>\n      <td>790</td>\n      <td>2019-10-22</td>\n      <td>New York City</td>\n    </tr>\n  </tbody>\n</table>\n</div>"
     },
     "metadata": {},
     "execution_count": 24
    }
   ],
   "source": [
    "sales.head(5)"
   ]
  },
  {
   "cell_type": "code",
   "execution_count": 25,
   "metadata": {},
   "outputs": [
    {
     "output_type": "execute_result",
     "data": {
      "text/plain": [
       "            City     State\n",
       "0        Atlanta   Georgia\n",
       "1  New York City  New York\n",
       "2        Toronto   Ontario\n",
       "3       Portland    Oregon"
      ],
      "text/html": "<div>\n<style scoped>\n    .dataframe tbody tr th:only-of-type {\n        vertical-align: middle;\n    }\n\n    .dataframe tbody tr th {\n        vertical-align: top;\n    }\n\n    .dataframe thead th {\n        text-align: right;\n    }\n</style>\n<table border=\"1\" class=\"dataframe\">\n  <thead>\n    <tr style=\"text-align: right;\">\n      <th></th>\n      <th>City</th>\n      <th>State</th>\n    </tr>\n  </thead>\n  <tbody>\n    <tr>\n      <th>0</th>\n      <td>Atlanta</td>\n      <td>Georgia</td>\n    </tr>\n    <tr>\n      <th>1</th>\n      <td>New York City</td>\n      <td>New York</td>\n    </tr>\n    <tr>\n      <th>2</th>\n      <td>Toronto</td>\n      <td>Ontario</td>\n    </tr>\n    <tr>\n      <th>3</th>\n      <td>Portland</td>\n      <td>Oregon</td>\n    </tr>\n  </tbody>\n</table>\n</div>"
     },
     "metadata": {},
     "execution_count": 25
    }
   ],
   "source": [
    "states.head(5)"
   ]
  },
  {
   "cell_type": "code",
   "execution_count": null,
   "metadata": {},
   "outputs": [],
   "source": []
  }
 ],
 "metadata": {
  "kernelspec": {
   "display_name": "Python 3",
   "language": "python",
   "name": "python3"
  },
  "language_info": {
   "codemirror_mode": {
    "name": "ipython",
    "version": 3
   },
   "file_extension": ".py",
   "mimetype": "text/x-python",
   "name": "python",
   "nbconvert_exporter": "python",
   "pygments_lexer": "ipython3",
   "version": "3.8.5-final"
  }
 },
 "nbformat": 4,
 "nbformat_minor": 4
}