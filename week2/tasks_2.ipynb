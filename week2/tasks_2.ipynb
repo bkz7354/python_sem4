{
 "cells": [
  {
   "cell_type": "markdown",
   "metadata": {},
   "source": [
    "# Практическая часть \n",
    "# по теме Функциональное программирование на Python"
   ]
  },
  {
   "cell_type": "markdown",
   "metadata": {},
   "source": [
    "1. Проверьте, возможно ли изменить список в процессе итерирования."
   ]
  },
  {
   "cell_type": "code",
   "execution_count": 4,
   "metadata": {},
   "outputs": [
    {
     "output_type": "stream",
     "name": "stdout",
     "text": [
      "0 1\n1 2\n2 3\n3 4\n4 5\n"
     ]
    }
   ],
   "source": [
    "smp = list(range(5))\n",
    "\n",
    "for i in smp:\n",
    "    smp[i] = i+1\n",
    "    print(i, smp[i])"
   ]
  },
  {
   "cell_type": "markdown",
   "metadata": {},
   "source": [
    "2. Написать функцию, принимающую 2 списка и возвращающую декартово произведение (использовать itertools.product)"
   ]
  },
  {
   "cell_type": "code",
   "execution_count": 7,
   "metadata": {},
   "outputs": [
    {
     "output_type": "execute_result",
     "data": {
      "text/plain": [
       "[(0, 'a'),\n",
       " (0, 'b'),\n",
       " (0, 'c'),\n",
       " (1, 'a'),\n",
       " (1, 'b'),\n",
       " (1, 'c'),\n",
       " (2, 'a'),\n",
       " (2, 'b'),\n",
       " (2, 'c'),\n",
       " (3, 'a'),\n",
       " (3, 'b'),\n",
       " (3, 'c'),\n",
       " (4, 'a'),\n",
       " (4, 'b'),\n",
       " (4, 'c')]"
      ]
     },
     "metadata": {},
     "execution_count": 7
    }
   ],
   "source": [
    "import itertools\n",
    "\n",
    "def cartesian_product(list1, list2):\n",
    "    return list(itertools.product(list1, list2))\n",
    "\n",
    "cartesian_product(range(5), ['a', 'b', 'c'])"
   ]
  },
  {
   "cell_type": "markdown",
   "metadata": {},
   "source": [
    "3. Написать функцию, принимающую строку s и число n и возвращающую всевозможные перестановки из n символов в s строке в лексикографическом(!) порядке (использовать itertools.permutations)"
   ]
  },
  {
   "cell_type": "code",
   "execution_count": 23,
   "metadata": {},
   "outputs": [
    {
     "output_type": "execute_result",
     "data": {
      "text/plain": [
       "[('a', 'b'), ('a', 'r'), ('b', 'a'), ('b', 'r'), ('r', 'a'), ('r', 'b')]"
      ]
     },
     "metadata": {},
     "execution_count": 23
    }
   ],
   "source": [
    "def sorted_permutations(s, n):\n",
    "    return sorted(list(itertools.permutations(s, n)))\n",
    "\n",
    "sorted_permutations('bar', 2)"
   ]
  },
  {
   "cell_type": "markdown",
   "metadata": {},
   "source": [
    "4. Реализовать функцию get_combinations. Должна принимать строку s и число k и возвращать все возможные комбинации из символов в строке s с длинами <= k (использовать itertools.combinations)"
   ]
  },
  {
   "cell_type": "code",
   "execution_count": 21,
   "metadata": {},
   "outputs": [
    {
     "output_type": "execute_result",
     "data": {
      "text/plain": [
       "[('b',), ('a',), ('r',), ('b', 'a'), ('b', 'r'), ('a', 'r'), ('b', 'a', 'r')]"
      ]
     },
     "metadata": {},
     "execution_count": 21
    }
   ],
   "source": [
    "def string_combinations(s, k):\n",
    "    result = []\n",
    "    for i in range(1, k+1):\n",
    "        result.extend(itertools.combinations(s, i))\n",
    "\n",
    "    return result\n",
    "\n",
    "string_combinations('bar', 10)"
   ]
  },
  {
   "cell_type": "markdown",
   "metadata": {},
   "source": [
    "5. Функция должна принимать строку s и число k и возвращать все возможные комбинации из символов в строке s с длинами = k с повторениями (использовать itertools.combinations_with_replacement)"
   ]
  },
  {
   "cell_type": "code",
   "execution_count": 22,
   "metadata": {},
   "outputs": [
    {
     "output_type": "execute_result",
     "data": {
      "text/plain": [
       "[('b', 'b', 'b'),\n",
       " ('b', 'b', 'a'),\n",
       " ('b', 'b', 'r'),\n",
       " ('b', 'a', 'a'),\n",
       " ('b', 'a', 'r'),\n",
       " ('b', 'r', 'r'),\n",
       " ('a', 'a', 'a'),\n",
       " ('a', 'a', 'r'),\n",
       " ('a', 'r', 'r'),\n",
       " ('r', 'r', 'r')]"
      ]
     },
     "metadata": {},
     "execution_count": 22
    }
   ],
   "source": [
    "def combinations_with_repeat(s, k):\n",
    "    return list(itertools.combinations_with_replacement(s, k))\n",
    "\n",
    "combinations_with_repeat('bar', 3)"
   ]
  },
  {
   "cell_type": "markdown",
   "metadata": {},
   "source": [
    "6. Написать функцию, которая подсчитывает количество подряд идующих символов в строке (использовать itertools.groupby)"
   ]
  },
  {
   "cell_type": "code",
   "execution_count": 42,
   "metadata": {},
   "outputs": [],
   "source": [
    "# Что то не так с формулировкой?"
   ]
  },
  {
   "cell_type": "markdown",
   "metadata": {},
   "source": [
    "7. В функцию передается список списков. Нужно вернуть максимум, который достигает выражение $(a_1^2 + a_2^2 + ... + a_n^2) % m $. Где ai --- максимальный элемент из i-ого списка (использовать функцию из itertools)"
   ]
  },
  {
   "cell_type": "code",
   "execution_count": 37,
   "metadata": {},
   "outputs": [
    {
     "output_type": "execute_result",
     "data": {
      "text/plain": [
       "54"
      ]
     },
     "metadata": {},
     "execution_count": 37
    }
   ],
   "source": [
    "def sum_max(lists):\n",
    "    return sum([max(l)**2 for l in lists])\n",
    "\n",
    "sum_max([[1,2],[1,2,3],[1,2,3,4],[1,2,3,4,5]])"
   ]
  },
  {
   "cell_type": "markdown",
   "metadata": {},
   "source": [
    "8. Напишите генератор, выводящий первые n чисел Фибоначчи."
   ]
  },
  {
   "cell_type": "code",
   "execution_count": 27,
   "metadata": {},
   "outputs": [
    {
     "output_type": "stream",
     "name": "stdout",
     "text": [
      "0\n1\n1\n2\n3\n5\n8\n13\n21\n34\n"
     ]
    }
   ],
   "source": [
    "def fib_numbers(n):\n",
    "    a, b = 0, 1\n",
    "    for i in range(n):\n",
    "        yield a\n",
    "        a, b = b, a+b\n",
    "\n",
    "for i in fib_numbers(10):\n",
    "    print(i)"
   ]
  },
  {
   "source": [
    "9. Ознакомьтесь с документацией по функциям zip, map, enumerate."
   ],
   "cell_type": "markdown",
   "metadata": {}
  },
  {
   "source": [
    "10. Реализуйте сви версии zip, map, enumaerate"
   ],
   "cell_type": "markdown",
   "metadata": {}
  },
  {
   "cell_type": "code",
   "execution_count": 38,
   "metadata": {},
   "outputs": [
    {
     "output_type": "execute_result",
     "data": {
      "text/plain": [
       "[(1, 1, 1), (2, 2, 2)]"
      ]
     },
     "metadata": {},
     "execution_count": 38
    }
   ],
   "source": [
    "def my_zip(*iterables):\n",
    "    if not iterables:\n",
    "        return\n",
    "\n",
    "    iterators = [iter(x) for x in iterables]\n",
    "    while True:\n",
    "        try:\n",
    "            zip_elem = [next(it) for it in iterators]\n",
    "        except StopIteration:\n",
    "            return\n",
    "        yield tuple(zip_elem)\n",
    "\n",
    "\n",
    "list(my_zip([1,2,3,4],[1,2,3],[1,2]))"
   ]
  },
  {
   "cell_type": "code",
   "execution_count": 35,
   "metadata": {},
   "outputs": [
    {
     "output_type": "execute_result",
     "data": {
      "text/plain": [
       "[1, 4, 9, 25]"
      ]
     },
     "metadata": {},
     "execution_count": 35
    }
   ],
   "source": [
    "def my_map(func, iterable):\n",
    "    for x in iterable:\n",
    "        yield func(x)\n",
    "\n",
    "list(my_map(lambda x: x**2, [1,2,3,5]))"
   ]
  },
  {
   "cell_type": "code",
   "execution_count": 36,
   "metadata": {},
   "outputs": [
    {
     "output_type": "execute_result",
     "data": {
      "text/plain": [
       "[(0, 'a'), (1, 'b'), (2, 'c'), (3, 'd')]"
      ]
     },
     "metadata": {},
     "execution_count": 36
    }
   ],
   "source": [
    "def my_enumerate(iterable):\n",
    "    idx = 0\n",
    "    for x in iterable:\n",
    "        yield idx, x\n",
    "        idx += 1\n",
    "\n",
    "list(my_enumerate('abcd'))"
   ]
  }
 ],
 "metadata": {
  "kernelspec": {
   "display_name": "Python 3",
   "language": "python",
   "name": "python3"
  },
  "language_info": {
   "codemirror_mode": {
    "name": "ipython",
    "version": 3
   },
   "file_extension": ".py",
   "mimetype": "text/x-python",
   "name": "python",
   "nbconvert_exporter": "python",
   "pygments_lexer": "ipython3",
   "version": "3.8.5-final"
  }
 },
 "nbformat": 4,
 "nbformat_minor": 4
}