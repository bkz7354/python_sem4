{
 "cells": [
  {
   "cell_type": "code",
   "execution_count": 2,
   "metadata": {},
   "outputs": [],
   "source": [
    "import numpy as np"
   ]
  },
  {
   "cell_type": "code",
   "execution_count": 3,
   "metadata": {},
   "outputs": [
    {
     "output_type": "execute_result",
     "data": {
      "text/plain": [
       "array([12., 13., 14., 15., 16., 17., 18., 19., 20., 21., 22., 23., 24.,\n",
       "       25., 26., 27., 28., 29., 30., 31., 32., 33., 34., 35., 36., 37.,\n",
       "       38., 39., 40., 41., 42.])"
      ]
     },
     "metadata": {},
     "execution_count": 3
    }
   ],
   "source": [
    "#1 Создайте вектор с элементами от 12 до 42\n",
    "np.linspace(12, 42, 43-12)"
   ]
  },
  {
   "cell_type": "code",
   "execution_count": 4,
   "metadata": {},
   "outputs": [
    {
     "output_type": "execute_result",
     "data": {
      "text/plain": [
       "array([0., 0., 0., 0., 1., 0., 0., 0., 0., 0., 0., 0.])"
      ]
     },
     "metadata": {},
     "execution_count": 4
    }
   ],
   "source": [
    "#2 Создайте вектор из нулей длины 12, но его пятый елемент должен быть равен 1\n",
    "x = np.zeros(12)\n",
    "x[4] = 1\n",
    "x"
   ]
  },
  {
   "cell_type": "code",
   "execution_count": 5,
   "metadata": {},
   "outputs": [
    {
     "output_type": "execute_result",
     "data": {
      "text/plain": [
       "array([[0., 1., 2.],\n",
       "       [3., 4., 5.],\n",
       "       [6., 7., 8.]])"
      ]
     },
     "metadata": {},
     "execution_count": 5
    }
   ],
   "source": [
    "#3 Создайте матрицу (3, 3), заполненую от 0 до 8\n",
    "x = np.linspace(0, 8, 9)\n",
    "x.reshape((3,3))"
   ]
  },
  {
   "cell_type": "code",
   "execution_count": 6,
   "metadata": {},
   "outputs": [
    {
     "output_type": "execute_result",
     "data": {
      "text/plain": [
       "array([1, 2, 4])"
      ]
     },
     "metadata": {},
     "execution_count": 6
    }
   ],
   "source": [
    "#4 Найдите все положительные числа в np.array([1,2,0,0,4,0])\n",
    "x = np.array([1,2,0,0,4,0])\n",
    "x[x > 0]"
   ]
  },
  {
   "cell_type": "code",
   "execution_count": 7,
   "metadata": {},
   "outputs": [
    {
     "output_type": "execute_result",
     "data": {
      "text/plain": [
       "array([[ 22.,  28.],\n",
       "       [ 49.,  64.],\n",
       "       [ 76., 100.],\n",
       "       [103., 136.],\n",
       "       [130., 172.]])"
      ]
     },
     "metadata": {},
     "execution_count": 7
    }
   ],
   "source": [
    "#5 Умножьте матрицу размерности (5, 3) на (3, 2)\n",
    "x = np.linspace(1, 15, 15)\n",
    "x = x.reshape((5,3))\n",
    "y = np.linspace(1, 6, 6)\n",
    "y = y.reshape((3,2))\n",
    "\n",
    "np.dot(x, y)"
   ]
  },
  {
   "cell_type": "code",
   "execution_count": 8,
   "metadata": {},
   "outputs": [
    {
     "output_type": "execute_result",
     "data": {
      "text/plain": [
       "array([[0., 0., 0., 0., 0., 0., 0., 0., 0., 0.],\n",
       "       [0., 1., 1., 1., 1., 1., 1., 1., 1., 0.],\n",
       "       [0., 1., 1., 1., 1., 1., 1., 1., 1., 0.],\n",
       "       [0., 1., 1., 1., 1., 1., 1., 1., 1., 0.],\n",
       "       [0., 1., 1., 1., 1., 1., 1., 1., 1., 0.],\n",
       "       [0., 1., 1., 1., 1., 1., 1., 1., 1., 0.],\n",
       "       [0., 1., 1., 1., 1., 1., 1., 1., 1., 0.],\n",
       "       [0., 1., 1., 1., 1., 1., 1., 1., 1., 0.],\n",
       "       [0., 1., 1., 1., 1., 1., 1., 1., 1., 0.],\n",
       "       [0., 0., 0., 0., 0., 0., 0., 0., 0., 0.]])"
      ]
     },
     "metadata": {},
     "execution_count": 8
    }
   ],
   "source": [
    "#6 Создайте матрицу (10, 10) так, чтобы на границе были 0, а внтури 1\n",
    "x = np.ones(10)\n",
    "x[0] = 0\n",
    "x[9] = 0\n",
    "\n",
    "y = np.tile(x, 10)\n",
    "y = y.reshape((10,10))\n",
    "y*np.transpose(y)"
   ]
  },
  {
   "cell_type": "code",
   "execution_count": 9,
   "metadata": {},
   "outputs": [
    {
     "output_type": "execute_result",
     "data": {
      "text/plain": [
       "array([0.08982334, 0.20140714, 0.30149921, 0.30396217, 0.60688744,\n",
       "       0.65573869, 0.75932239, 0.99044529])"
      ]
     },
     "metadata": {},
     "execution_count": 9
    }
   ],
   "source": [
    "#7 Создайте рандомный вектор и отсортируйте его\n",
    "x = np.random.random(8)\n",
    "x.sort()\n",
    "x"
   ]
  },
  {
   "cell_type": "code",
   "execution_count": 10,
   "metadata": {},
   "outputs": [
    {
     "output_type": "stream",
     "name": "stdout",
     "text": [
      "(0, 0) 1\n(0, 1) 2\n(1, 0) 3\n(1, 1) 4\n"
     ]
    }
   ],
   "source": [
    "#8 Каков эквивалент функции enumerate для numpy массивов?\n",
    "x = np.array([[1, 2], [3, 4]])\n",
    "for index, val in np.ndenumerate(x):\n",
    "    print(index, val)\n"
   ]
  },
  {
   "cell_type": "code",
   "execution_count": 11,
   "metadata": {},
   "outputs": [],
   "source": [
    "#9* Создайте рандомный вектор и выполните нормализацию столбцов \n",
    "# (из каждого столбца вычесть среднее этого столбца, из каждого столбца вычесть sd этого столбца)\n",
    "\n",
    "# Непонятная формулировка задачи."
   ]
  },
  {
   "cell_type": "code",
   "execution_count": 12,
   "metadata": {},
   "outputs": [
    {
     "output_type": "stream",
     "name": "stdout",
     "text": [
      "8 3.8851598670358123\n[3.08372321 3.16855168 8.68000614 3.3272961  2.5082356  7.33017519\n 1.55264086 7.56020992 3.88515987 3.83884612]\n"
     ]
    }
   ],
   "source": [
    "#10* Для заданного числа найдите ближайший к нему элемент в векторе\n",
    "arr = 10*np.random.random(10)\n",
    "x = 5\n",
    "\n",
    "idx = np.abs(arr-x).argmin()\n",
    "\n",
    "print(idx, arr[idx])\n",
    "print(arr)"
   ]
  },
  {
   "cell_type": "code",
   "execution_count": 25,
   "metadata": {},
   "outputs": [
    {
     "output_type": "execute_result",
     "data": {
      "text/plain": [
       "array([14,  9,  7,  6, 15,  3,  0, 16, 13,  8])"
      ]
     },
     "metadata": {},
     "execution_count": 25
    }
   ],
   "source": [
    "#11* Найдите N наибольших значений в векторе\n",
    "arr = 100*np.random.random(20)\n",
    "N = 10\n",
    "\n",
    "np.argsort(arr)[-N:] # получаем индексы наибольших элементов"
   ]
  }
 ],
 "metadata": {
  "kernelspec": {
   "display_name": "Python 3",
   "language": "python",
   "name": "python3"
  }
 },
 "nbformat": 4,
 "nbformat_minor": 4
}