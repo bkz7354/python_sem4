{
 "cells": [
  {
   "cell_type": "code",
   "execution_count": 1,
   "metadata": {},
   "outputs": [],
   "source": [
    "import numpy as np"
   ]
  },
  {
   "cell_type": "code",
   "execution_count": 2,
   "metadata": {},
   "outputs": [
    {
     "data": {
      "text/plain": [
       "array([12, 13, 14, 15, 16, 17, 18, 19, 20, 21, 22, 23, 24, 25, 26, 27, 28,\n",
       "       29, 30, 31, 32, 33, 34, 35, 36, 37, 38, 39, 40, 41, 42])"
      ]
     },
     "execution_count": 2,
     "metadata": {},
     "output_type": "execute_result"
    }
   ],
   "source": [
    "#1 Создайте вектор с элементами от 12 до 42\n",
    "np.arange(12, 43)"
   ]
  },
  {
   "cell_type": "code",
   "execution_count": 3,
   "metadata": {},
   "outputs": [
    {
     "data": {
      "text/plain": [
       "array([0., 0., 0., 0., 1., 0., 0., 0., 0., 0., 0., 0.])"
      ]
     },
     "execution_count": 3,
     "metadata": {},
     "output_type": "execute_result"
    }
   ],
   "source": [
    "#2 Создайте вектор из нулей длины 12, но его пятый елемент должен быть равен 1\n",
    "x = np.zeros(12)\n",
    "x[4] = 1\n",
    "x"
   ]
  },
  {
   "cell_type": "code",
   "execution_count": 4,
   "metadata": {},
   "outputs": [
    {
     "data": {
      "text/plain": [
       "array([[0., 1., 2.],\n",
       "       [3., 4., 5.],\n",
       "       [6., 7., 8.]])"
      ]
     },
     "execution_count": 4,
     "metadata": {},
     "output_type": "execute_result"
    }
   ],
   "source": [
    "#3 Создайте матрицу (3, 3), заполненую от 0 до 8\n",
    "x = np.linspace(0, 8, 9)\n",
    "x.reshape((3,3))"
   ]
  },
  {
   "cell_type": "code",
   "execution_count": 5,
   "metadata": {},
   "outputs": [
    {
     "data": {
      "text/plain": [
       "array([1, 2, 4])"
      ]
     },
     "execution_count": 5,
     "metadata": {},
     "output_type": "execute_result"
    }
   ],
   "source": [
    "#4 Найдите все положительные числа в np.array([1,2,0,0,4,0])\n",
    "x = np.array([1,2,0,0,4,0])\n",
    "x[x > 0]"
   ]
  },
  {
   "cell_type": "code",
   "execution_count": 6,
   "metadata": {},
   "outputs": [
    {
     "data": {
      "text/plain": [
       "array([[ 22.,  28.],\n",
       "       [ 49.,  64.],\n",
       "       [ 76., 100.],\n",
       "       [103., 136.],\n",
       "       [130., 172.]])"
      ]
     },
     "execution_count": 6,
     "metadata": {},
     "output_type": "execute_result"
    }
   ],
   "source": [
    "#5 Умножьте матрицу размерности (5, 3) на (3, 2)\n",
    "x = np.linspace(1, 15, 15)\n",
    "x = x.reshape((5,3))\n",
    "y = np.linspace(1, 6, 6)\n",
    "y = y.reshape((3,2))\n",
    "\n",
    "np.dot(x, y)"
   ]
  },
  {
   "cell_type": "code",
   "execution_count": 7,
   "metadata": {},
   "outputs": [
    {
     "data": {
      "text/plain": [
       "array([[0., 0., 0., 0., 0., 0., 0., 0., 0., 0.],\n",
       "       [0., 1., 1., 1., 1., 1., 1., 1., 1., 0.],\n",
       "       [0., 1., 1., 1., 1., 1., 1., 1., 1., 0.],\n",
       "       [0., 1., 1., 1., 1., 1., 1., 1., 1., 0.],\n",
       "       [0., 1., 1., 1., 1., 1., 1., 1., 1., 0.],\n",
       "       [0., 1., 1., 1., 1., 1., 1., 1., 1., 0.],\n",
       "       [0., 1., 1., 1., 1., 1., 1., 1., 1., 0.],\n",
       "       [0., 1., 1., 1., 1., 1., 1., 1., 1., 0.],\n",
       "       [0., 1., 1., 1., 1., 1., 1., 1., 1., 0.],\n",
       "       [0., 0., 0., 0., 0., 0., 0., 0., 0., 0.]])"
      ]
     },
     "execution_count": 7,
     "metadata": {},
     "output_type": "execute_result"
    }
   ],
   "source": [
    "#6 Создайте матрицу (10, 10) так, чтобы на границе были 0, а внтури 1\n",
    "x = np.ones(10)\n",
    "x[0] = 0\n",
    "x[9] = 0\n",
    "\n",
    "y = np.tile(x, 10)\n",
    "y = y.reshape((10,10))\n",
    "y*np.transpose(y)"
   ]
  },
  {
   "cell_type": "code",
   "execution_count": 8,
   "metadata": {},
   "outputs": [
    {
     "data": {
      "text/plain": [
       "array([0.14733847, 0.16462185, 0.33874718, 0.53357948, 0.74880114,\n",
       "       0.87335501, 0.94536136, 0.95342118])"
      ]
     },
     "execution_count": 8,
     "metadata": {},
     "output_type": "execute_result"
    }
   ],
   "source": [
    "#7 Создайте рандомный вектор и отсортируйте его\n",
    "x = np.random.random(8)\n",
    "x.sort()\n",
    "x"
   ]
  },
  {
   "cell_type": "code",
   "execution_count": 9,
   "metadata": {},
   "outputs": [
    {
     "name": "stdout",
     "output_type": "stream",
     "text": [
      "(0, 0) 1\n",
      "(0, 1) 2\n",
      "(1, 0) 3\n",
      "(1, 1) 4\n"
     ]
    }
   ],
   "source": [
    "#8 Каков эквивалент функции enumerate для numpy массивов?\n",
    "x = np.array([[1, 2], [3, 4]])\n",
    "for index, val in np.ndenumerate(x):\n",
    "    print(index, val)\n"
   ]
  },
  {
   "cell_type": "code",
   "execution_count": 10,
   "metadata": {},
   "outputs": [],
   "source": [
    "#9* Создайте рандомный вектор и выполните нормализацию столбцов \n",
    "# (из каждого столбца вычесть среднее этого столбца, из каждого столбца вычесть sd этого столбца)\n",
    "\n",
    "# Непонятная формулировка задачи."
   ]
  },
  {
   "cell_type": "code",
   "execution_count": 11,
   "metadata": {},
   "outputs": [
    {
     "name": "stdout",
     "output_type": "stream",
     "text": [
      "1 4.365822782266463\n",
      "[3.16176389 4.36582278 4.01919581 6.84578954 1.27163524 0.83053253\n",
      " 2.34212002 0.25129467 0.64650779 9.36540601]\n"
     ]
    }
   ],
   "source": [
    "#10* Для заданного числа найдите ближайший к нему элемент в векторе\n",
    "arr = 10*np.random.random(10)\n",
    "x = 5\n",
    "\n",
    "idx = np.abs(arr-x).argmin()\n",
    "\n",
    "print(idx, arr[idx])\n",
    "print(arr)"
   ]
  },
  {
   "cell_type": "code",
   "execution_count": 13,
   "metadata": {},
   "outputs": [
    {
     "data": {
      "text/plain": [
       "array([53.61511972, 58.73815612, 59.12557317, 74.59513508, 76.37685991,\n",
       "       89.66415521, 91.42553971, 91.53711155, 94.53468759, 95.84099895])"
      ]
     },
     "execution_count": 13,
     "metadata": {},
     "output_type": "execute_result"
    }
   ],
   "source": [
    "#11* Найдите N наибольших значений в векторе\n",
    "arr = 100*np.random.random(20)\n",
    "N = 10\n",
    "\n",
    "arr[np.argsort(arr)[-N:]]"
   ]
  }
 ],
 "metadata": {
  "kernelspec": {
   "display_name": "Python 3",
   "language": "python",
   "name": "python3"
  },
  "language_info": {
   "codemirror_mode": {
    "name": "ipython",
    "version": 3
   },
   "file_extension": ".py",
   "mimetype": "text/x-python",
   "name": "python",
   "nbconvert_exporter": "python",
   "pygments_lexer": "ipython3",
   "version": "3.8.5"
  }
 },
 "nbformat": 4,
 "nbformat_minor": 4
}
