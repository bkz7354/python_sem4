{
 "cells": [
  {
   "cell_type": "markdown",
   "metadata": {},
   "source": [
    "## Занятие 4:\n",
    "## Сложность алгоритмов\n"
   ]
  },
  {
   "cell_type": "markdown",
   "metadata": {},
   "source": [
    "#### 1. Оцените сложность кода:\n",
    "\n",
    "if test:\n",
    "\n",
    "  block 1\n",
    "  \n",
    "else:\n",
    "\n",
    "  block 2"
   ]
  },
  {
   "cell_type": "markdown",
   "metadata": {},
   "source": [
    "Если в условии test требуется умножение двух n * n матриц. Сложность block 1 – O(N2), block 2 – O(N)."
   ]
  },
  {
   "source": [
    "Самая \"тяжелая\" операция - умножение матриц, поэтому сложность - $O(N^3)$."
   ],
   "cell_type": "markdown",
   "metadata": {}
  },
  {
   "cell_type": "markdown",
   "metadata": {},
   "source": [
    "#### 2. Оцените вычислительная сложность вычисления последовательности Фибоначчи."
   ]
  },
  {
   "source": [
    "Если вычислять итеративно, достаточно одного прохода, поэтому сложность - $O(N)$."
   ],
   "cell_type": "markdown",
   "metadata": {}
  },
  {
   "cell_type": "markdown",
   "metadata": {},
   "source": [
    "#### 3. Реализуйте сортировку пузырьком. Какова ассимптотическая сложность алгоритма?"
   ]
  },
  {
   "cell_type": "code",
   "execution_count": 4,
   "metadata": {},
   "outputs": [
    {
     "output_type": "stream",
     "name": "stdout",
     "text": [
      "[1, 1, 2, 3, 4, 6, 6, 7]\n"
     ]
    }
   ],
   "source": [
    "def bubble_sort(lst):\n",
    "    exit_flag = False\n",
    "    for i in range(len(lst)):\n",
    "        exit_flag = True\n",
    "        for j in range(1, len(lst)):\n",
    "            if lst[j] < lst[j-1]:\n",
    "                lst[j], lst[j-1] = lst[j-1], lst[j]\n",
    "                exit_flag = False\n",
    "\n",
    "        if exit_flag:\n",
    "            break\n",
    "\n",
    "    return lst\n",
    "\n",
    "print(bubble_sort([1,4,1,6,2,7,3,6]))"
   ]
  },
  {
   "source": [
    "Сложность алгоритма - $O(N^2)$"
   ],
   "cell_type": "markdown",
   "metadata": {}
  },
  {
   "cell_type": "markdown",
   "metadata": {},
   "source": [
    "#### 4. Необходимо написать функцию calc_frac(number), которая принимает 1 аргумент — неотъемлемое целое число number, и возвращает список, содержащий 2 целых числа — числитель и знаменатель крупнейшей правильной несокращаемой дроби, для которой сумма числителя и знаменателя равна number. Вернуть False, если создать такую дробь невозможно. Оцените алгоритмическую сложность и сложность по памяти полученного алгоритма."
   ]
  },
  {
   "cell_type": "code",
   "execution_count": 20,
   "metadata": {},
   "outputs": [
    {
     "output_type": "stream",
     "name": "stdout",
     "text": [
      "[4, 5]\n"
     ]
    }
   ],
   "source": [
    "def my_gcd(a, b):\n",
    "    if b < a:\n",
    "        a, b = b, a\n",
    "    \n",
    "    while a:\n",
    "        a, b = b%a, a\n",
    "\n",
    "    return b\n",
    "\n",
    "def calc_frac(n):\n",
    "    for denom in range(n//2 + 1, n):  \n",
    "        if my_gcd(n-denom, n) == 1:\n",
    "            return [n-denom, denom]\n",
    "    \n",
    "    return False\n",
    "\n",
    "print(calc_frac(9))"
   ]
  },
  {
   "source": [
    "Цикл делает $n$ итераций, на каждой из которых вызывается my_gcd со сложностью $O(\\log{n})$. Получаем общую сложность $O(n\\log{n})$"
   ],
   "cell_type": "markdown",
   "metadata": {}
  },
  {
   "cell_type": "markdown",
   "metadata": {},
   "source": [
    "#### 5. Напишите функцию sudoku(N), которая принимает 1 аргумент — положительное целое число (1 <= N <= 42), и возвращает список списков — квадратную матрицу, представляющий судоку размерности N. Определите сложность алгоритма по памяти и времени."
   ]
  },
  {
   "cell_type": "code",
   "execution_count": 33,
   "metadata": {},
   "outputs": [
    {
     "output_type": "stream",
     "name": "stdout",
     "text": [
      "[9, 6, 7, 2, 3, 8, 5, 1, 4]\n[3, 2, 8, 5, 1, 4, 6, 9, 7]\n[1, 5, 4, 6, 9, 7, 2, 3, 8]\n[5, 4, 3, 7, 6, 1, 8, 2, 9]\n[6, 7, 1, 8, 2, 9, 4, 5, 3]\n[2, 8, 9, 4, 5, 3, 7, 6, 1]\n[7, 1, 5, 9, 8, 6, 3, 4, 2]\n[4, 3, 2, 1, 7, 5, 9, 8, 6]\n[8, 9, 6, 3, 4, 2, 1, 7, 5]\n"
     ]
    }
   ],
   "source": [
    "# алгоритм - берем рабочее решение,после чего перемешиваем в нем ряды и строки\n",
    "\n",
    "import random as rnd\n",
    "\n",
    "# работающее решение\n",
    "def basic_solution(n, row, col): \n",
    "    return (n*(row%n) + row//n + col)%(n**2)\n",
    "\n",
    "def shuffle(lst):\n",
    "    return rnd.sample(lst, len(lst))\n",
    "\n",
    "# перемешивание рабочего решения\n",
    "def randomise_solution(n):\n",
    "    smp = range(n)\n",
    "\n",
    "    # уделяем внимание тому, чтобы не менять местами строки из разных блоков n*n\n",
    "    rows = [block*n + in_block for block in shuffle(smp) for in_block in shuffle(smp)]\n",
    "    cols = [block*n + in_block for block in shuffle(smp) for in_block in shuffle(smp)]\n",
    "\n",
    "    return rows, cols\n",
    "\n",
    "def sudoku(n):\n",
    "    rows, cols = randomise_solution(n)\n",
    "    nums = shuffle(range(1, n**2+1))\n",
    "\n",
    "    return [[nums[basic_solution(n, row, col)] for col in cols] for row in rows]\n",
    "\n",
    "print(*sudoku(3), sep='\\n')"
   ]
  },
  {
   "source": [
    "Сложность shuffle - $O(N)$, сложность randomise_solution - $O(N^2)$, сложность sudoku - $O(N^4)$ из-за размера доски."
   ],
   "cell_type": "markdown",
   "metadata": {}
  }
 ],
 "metadata": {
  "kernelspec": {
   "display_name": "Python 3",
   "language": "python",
   "name": "python3"
  },
  "language_info": {
   "codemirror_mode": {
    "name": "ipython",
    "version": 3
   },
   "file_extension": ".py",
   "mimetype": "text/x-python",
   "name": "python",
   "nbconvert_exporter": "python",
   "pygments_lexer": "ipython3",
   "version": "3.8.5-final"
  }
 },
 "nbformat": 4,
 "nbformat_minor": 4
}